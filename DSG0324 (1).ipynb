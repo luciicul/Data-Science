{
 "cells": [
  {
   "cell_type": "code",
   "execution_count": 1,
   "id": "a56a3039-0817-4f5a-9281-a817c810803e",
   "metadata": {},
   "outputs": [
    {
     "name": "stdout",
     "output_type": "stream",
     "text": [
      "Hello Luci\n"
     ]
    }
   ],
   "source": [
    "print(\"Hello Luci\")"
   ]
  },
  {
   "cell_type": "code",
   "execution_count": 2,
   "id": "945b0100-cee7-4245-b8d7-609147484d00",
   "metadata": {},
   "outputs": [
    {
     "data": {
      "text/plain": [
       "35"
      ]
     },
     "execution_count": 2,
     "metadata": {},
     "output_type": "execute_result"
    }
   ],
   "source": [
    "10+25"
   ]
  },
  {
   "cell_type": "code",
   "execution_count": 3,
   "id": "26a869d4-cc88-4074-b2d1-085d71c5ec5a",
   "metadata": {},
   "outputs": [
    {
     "name": "stdout",
     "output_type": "stream",
     "text": [
      "Data Science\n"
     ]
    }
   ],
   "source": [
    "print(\"Data Science\")"
   ]
  },
  {
   "cell_type": "code",
   "execution_count": 4,
   "id": "764cf4b4-49f8-451b-a83d-57774be8947d",
   "metadata": {},
   "outputs": [
    {
     "data": {
      "text/plain": [
       "1"
      ]
     },
     "execution_count": 4,
     "metadata": {},
     "output_type": "execute_result"
    }
   ],
   "source": [
    "25-24"
   ]
  },
  {
   "cell_type": "markdown",
   "id": "fb6d42c2-1fbb-44bd-97e2-d51e4eeaea01",
   "metadata": {},
   "source": [
    "Shortcuts"
   ]
  },
  {
   "cell_type": "markdown",
   "id": "3fa897f8-3621-407f-bf3c-5074281c8a3b",
   "metadata": {},
   "source": [
    "add a cell above a comment ESC + A\n",
    "add a cell below a comment ESC + B\n",
    "delete a cell ESC+D+D\n",
    "run a cell ctrl+enter or shift+enter\n",
    "save ctrl+s"
   ]
  },
  {
   "cell_type": "code",
   "execution_count": null,
   "id": "18d19223-a5c4-4597-874b-ae6918b30e15",
   "metadata": {},
   "outputs": [],
   "source": []
  }
 ],
 "metadata": {
  "kernelspec": {
   "display_name": "Python 3 (ipykernel)",
   "language": "python",
   "name": "python3"
  },
  "language_info": {
   "codemirror_mode": {
    "name": "ipython",
    "version": 3
   },
   "file_extension": ".py",
   "mimetype": "text/x-python",
   "name": "python",
   "nbconvert_exporter": "python",
   "pygments_lexer": "ipython3",
   "version": "3.11.7"
  }
 },
 "nbformat": 4,
 "nbformat_minor": 5
}
